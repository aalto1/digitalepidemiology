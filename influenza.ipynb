{
 "cells": [
  {
   "cell_type": "code",
   "execution_count": 132,
   "metadata": {
    "collapsed": true
   },
   "outputs": [],
   "source": [
    "import pandas as pd\n",
    "from os import listdir\n",
    "import matplotlib.pyplot as plt\n",
    "\n",
    "\n",
    "dataPath = \"/home/aalto/Desktop/DE/hw2/influnet/data/\"\n",
    "\n",
    "#df = pd.read_csv(dataPath, names=[\"time\", \"incidence\"], sep=\" \", header=1, usecols=[0,4])\n",
    "\n",
    "df = pd.concat([pd.read_csv(dataPath+t, names=[\"time\", \"incidence\"], sep=\" \", header=1, usecols=[0,4], decimal=\",\") for t in listdir(dataPath)], ignore_index=True)\n",
    "\n",
    "df[[\"year\",\"week\"]] = df[\"time\"].str.split(\"-\", expand=True)\n",
    "df.drop([\"time\"], axis=1, inplace=True)\n",
    "df = df.set_index([\"year\",\"week\"])\n",
    "df.sortlevel(inplace=True)\n",
    "df = df.astype(float)\n",
    "#df = df.stack().unstack(1)\n",
    "#df.reset_index(0, inplace=True)\n",
    "df.plot()\n",
    "plt.show()"
   ]
  },
  {
   "cell_type": "code",
   "execution_count": 131,
   "metadata": {},
   "outputs": [],
   "source": [
    "wiki = pd.read_csv(\"/home/aalto/PycharmProjects/digitalepidemiology/data/influenza.csv\")\n",
    "wiki.plot()\n",
    "plt.show()"
   ]
  },
  {
   "cell_type": "code",
   "execution_count": null,
   "metadata": {},
   "outputs": [],
   "source": [
    "import numpy as np\n",
    "import pandas as pd\n",
    "import matplotlib.pyplot as plt\n",
    "\n",
    "d = {'one' : np.random.rand(10),\n",
    "     'two' : np.random.rand(10)}\n",
    "\n",
    "df = pd.DataFrame(d)\n",
    "\n",
    "df.plot(style=['o','rx'])\n",
    "plt.show()"
   ]
  }
 ],
 "metadata": {
  "kernelspec": {
   "display_name": "Python 2",
   "language": "python",
   "name": "python2"
  },
  "language_info": {
   "codemirror_mode": {
    "name": "ipython",
    "version": 2.0
   },
   "file_extension": ".py",
   "mimetype": "text/x-python",
   "name": "python",
   "nbconvert_exporter": "python",
   "pygments_lexer": "ipython2",
   "version": "2.7.6"
  }
 },
 "nbformat": 4,
 "nbformat_minor": 0
}