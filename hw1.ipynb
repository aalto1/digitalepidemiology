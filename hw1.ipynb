{
 "cells": [
  {
   "cell_type": "markdown",
   "metadata": {},
   "source": [
    "Orkut is a free on-line social network where users form friendship each other. Orkut also allows users form a group which other members can then join. We consider such user-defined groups as ground-truth communities. We provide the Orkut friendship social network and ground-truth communities. This data is provided by Alan Mislove et al.\n",
    "\n",
    "We regard each connected component in a group as a separate ground-truth community. We remove the ground-truth communities which have less than 3 nodes. We also provide the top 5,000 communities with highest quality which are described in our paper. As for the network, we provide the largest connected component."
   ]
  },
  {
   "cell_type": "markdown",
   "metadata": {},
   "source": [
    "The network that we are going to use is Orkut's social graph. I decided to use this dataset because Orkut was a community base social network  base on intrests. This caracteristic is crucial since it allows us to run our epidemiology simulaiton using a real network based on a real-social necessity.\n",
    "\n",
    "The graph is undirected."
   ]
  },
  {
   "cell_type": "code",
   "execution_count": 1,
   "metadata": {
    "collapsed": false
   },
   "outputs": [],
   "source": [
    "from igraph import *\n",
    "import numpy as np\n",
    "import matplotlib.pyplot as plt\n",
    "import itertools"
   ]
  },
  {
   "cell_type": "code",
   "execution_count": 5,
   "metadata": {
    "collapsed": false
   },
   "outputs": [],
   "source": [
    "class Epidemy(Graph):\n",
    "    '''Epidemy extends the igraph's class Graph. Ciao\n",
    "    The additional functionalities are:\n",
    "    \n",
    "    1 Built-in getters for graph metrics\n",
    "        1.1 Plotting\n",
    "            a)\n",
    "            b)\n",
    "        1.2 Metrics\n",
    "            a) distribution model\n",
    "            b) eggr\n",
    "    \n",
    "    '''\n",
    "    \n",
    "    graph = None\n",
    "    patient_zero = None\n",
    "    sentinels = None\n",
    "    global I\n",
    "    \n",
    "    def __init__(self, graph_edge_list, patient_zero = None, sentinels = None):\n",
    "        '''The compartment label is a byte that can take values 0, 1 and 2, indicating respectivly\n",
    "        0 - Suscebtible node\n",
    "        1 - Infected node'''\n",
    "        \n",
    "        \n",
    "        self.graph = Graph.Read_Ncol(graph_edge_list, directed=False)\n",
    "        self.graph.vs[\"compartment\"] = np.zeros(len(self.graph.vs), dtype = np.uint8)\n",
    "        \n",
    "        if patient_zero is None:\n",
    "            self.patient_zero = np.random.choice(self.graph.vs)\n",
    "        else:\n",
    "            self.patient_zero = patient_zero\n",
    "        if sentinels is None:\n",
    "            self.sentinels = np.random.choice(self.graph.vs)\n",
    "        else:\n",
    "            self.sentinels = sentinels\n",
    "             \n",
    "    \n",
    "    #setters  \n",
    "    def setPatientZero(patient_zero):\n",
    "        self.patient_zero = patient_zero\n",
    "        \n",
    "    def setSentinels(sentinels):\n",
    "        self.sentinels = sentinels\n",
    "        \n",
    "    def resetSentinels(self):\n",
    "        self.graph.vs[\"iteration\"] = np.nan\n",
    "    \n",
    "     \n",
    "    #getters\n",
    "    def getDegreeDistribution(self):\n",
    "        x,y = np.unique(self.graph.degree(), return_counts=True)\n",
    "        print(len(self.graph.degree()))\n",
    "        return (x,y)\n",
    "    \n",
    "    def getMaxDegreeVertex(self):\n",
    "        return self.graph.vs[self.graph.degree().index(self.graph.maxdegree())]\n",
    "    \n",
    "    #Epidemy Utilities\n",
    "    def printDegreeDistribution(self, loglog=False):\n",
    "        '''Prints the degree distirbution of the underlying network using a logarithmic scale'''\n",
    "        x,y = self.getDegreeDistribution()\n",
    "        if loglog:\n",
    "            plt.scatter(np.log(x), np.log(y))\n",
    "        else:\n",
    "            plt.scatter(x, y)\n",
    "        plt.show()\n",
    "        \n",
    "        \n",
    "        \n",
    "    #Epidemic Models\n",
    "    def SIR(self, beta = 0.4, mu = 0.1 , sentinels = None, patient_zero = None):\n",
    "        \"\"\"Simulate an epidemy outbreaks using a sir model\"\"\"\n",
    "        \n",
    "        if sentinels is None:\n",
    "            self.sentinels = set([np.random.choice(self.graph.vs)])\n",
    "        if patient_zero is None:\n",
    "            I = set([np.random.choice(self.graph.vs)])\n",
    "        else:\n",
    "            I = set([self.patient_zero])\n",
    "        \n",
    "        self.resetSentinels();\n",
    "        \n",
    "        \n",
    "        for iteration in itertools.count():\n",
    "            if(len(I)==0):\n",
    "                break\n",
    "                \n",
    "            print()\n",
    "            dI = set([j for j in list(itertools.chain.from_iterable(self.graph.neighborhood(I)))\n",
    "                      if self.graph.vs[j][\"compartment\"] == 0 and np.random.random() < beta])\n",
    "            self.graph.vs[dI][\"compartment\"] = 1 \n",
    "\n",
    "\n",
    "            # Finds new removed nodes and update the status\n",
    "            dR = set([k for k in I if np.random.random() < mu])\n",
    "            self.graph.vs[dR][\"compartment\"] = 0\n",
    "            \n",
    "            self.graph.vs[dI & self.sentinels][\"iteration\"] = iteration\n",
    "            \n",
    "\n",
    "            I = (I | dI) - (dR)"
   ]
  },
  {
   "cell_type": "code",
   "execution_count": 6,
   "metadata": {
    "collapsed": false
   },
   "outputs": [],
   "source": [
    "a = Epidemy('dblp2.txt')"
   ]
  },
  {
   "cell_type": "code",
   "execution_count": null,
   "metadata": {},
   "outputs": [],
   "source": [
    "a."
   ]
  },
  {
   "cell_type": "code",
   "execution_count": 8,
   "metadata": {
    "collapsed": false
   },
   "outputs": [
    {
     "name": "stdout",
     "output_type": "stream",
     "text": [
      "10\n10\n10\n10\n10\n10\n10\n10\n10\n10\n"
     ]
    },
    {
     "name": "stdout",
     "output_type": "stream",
     "text": [
      "10\n"
     ]
    },
    {
     "name": "stdout",
     "output_type": "stream",
     "text": [
      "10\n"
     ]
    },
    {
     "name": "stdout",
     "output_type": "stream",
     "text": [
      "10\n"
     ]
    },
    {
     "name": "stdout",
     "output_type": "stream",
     "text": [
      "10\n"
     ]
    },
    {
     "name": "stdout",
     "output_type": "stream",
     "text": [
      "10\n"
     ]
    },
    {
     "name": "stdout",
     "output_type": "stream",
     "text": [
      "10\n"
     ]
    },
    {
     "name": "stdout",
     "output_type": "stream",
     "text": [
      "10\n"
     ]
    },
    {
     "name": "stdout",
     "output_type": "stream",
     "text": [
      "10\n"
     ]
    },
    {
     "name": "stdout",
     "output_type": "stream",
     "text": [
      "10\n"
     ]
    },
    {
     "name": "stdout",
     "output_type": "stream",
     "text": [
      "10\n"
     ]
    }
   ],
   "source": [
    "a.SIR(patient_zero = None)"
   ]
  },
  {
   "cell_type": "code",
   "execution_count": null,
   "metadata": {
    "collapsed": false
   },
   "outputs": [],
   "source": [
    "a.printDegreeDistribution(True)"
   ]
  },
  {
   "cell_type": "code",
   "execution_count": 30,
   "metadata": {
    "collapsed": false
   },
   "outputs": [
    {
     "data": {
      "text/plain": [
       "{3307,\n",
       " 3333,\n",
       " 11392,\n",
       " 14758,\n",
       " 18953,\n",
       " 22289,\n",
       " 33323,\n",
       " 36149,\n",
       " 39415,\n",
       " 39472,\n",
       " 39473,\n",
       " 45612,\n",
       " 45616,\n",
       " 45627,\n",
       " 45643,\n",
       " 45652,\n",
       " 45656,\n",
       " 45676,\n",
       " 45682,\n",
       " 45686,\n",
       " 45688,\n",
       " 61346,\n",
       " 63111,\n",
       " 81671,\n",
       " 106446,\n",
       " 116258,\n",
       " 124695,\n",
       " 124714,\n",
       " 124716,\n",
       " 124718,\n",
       " 124720,\n",
       " 124723,\n",
       " 124726,\n",
       " 124728,\n",
       " 124735}"
      ]
     },
     "execution_count": 30,
     "metadata": {},
     "output_type": "execute_result"
    }
   ],
   "source": [
    "beta =0.1\n",
    "dI = set([j for j in list(itertools.chain.from_iterable(a.graph.neighborhood(set([a.getMaxDegreeVertex()])))) if a.graph.vs[j][\"compartment\"] == 0 and np.random.random() < beta])\n",
    "dI"
   ]
  },
  {
   "cell_type": "code",
   "execution_count": 20,
   "metadata": {
    "collapsed": false
   },
   "outputs": [
    {
     "data": {
      "text/plain": [
       "{2935,\n",
       " 3282,\n",
       " 3295,\n",
       " 6418,\n",
       " 11380,\n",
       " 11385,\n",
       " 11392,\n",
       " 28667,\n",
       " 45614,\n",
       " 45632,\n",
       " 45638,\n",
       " 45654,\n",
       " 45670,\n",
       " 45677,\n",
       " 45681,\n",
       " 45683,\n",
       " 45691,\n",
       " 48239,\n",
       " 57680,\n",
       " 63115,\n",
       " 81671,\n",
       " 85212,\n",
       " 110783,\n",
       " 116258,\n",
       " 124694,\n",
       " 124705,\n",
       " 124707,\n",
       " 124712,\n",
       " 124716,\n",
       " 124733,\n",
       " 124747}"
      ]
     },
     "execution_count": 20,
     "metadata": {},
     "output_type": "execute_result"
    }
   ],
   "source": [
    "dI"
   ]
  },
  {
   "cell_type": "code",
   "execution_count": 15,
   "metadata": {
    "collapsed": false
   },
   "outputs": [
    {
     "ename": "TypeError",
     "evalue": "'igraph.Vertex' object is not iterable",
     "traceback": [
      "\u001b[0;31m---------------------------------------------------------------------------\u001b[0m",
      "\u001b[0;31mTypeError\u001b[0m                                 Traceback (most recent call last)",
      "\u001b[0;32m<ipython-input-15-846d683a8c31>\u001b[0m in \u001b[0;36m<module>\u001b[0;34m()\u001b[0m\n\u001b[0;32m----> 1\u001b[0;31m \u001b[0mset\u001b[0m\u001b[0;34m(\u001b[0m\u001b[0ma\u001b[0m\u001b[0;34m.\u001b[0m\u001b[0mgetMaxDegreeVertex\u001b[0m\u001b[0;34m(\u001b[0m\u001b[0;34m)\u001b[0m\u001b[0;34m)\u001b[0m\u001b[0;34m\u001b[0m\u001b[0m\n\u001b[0m",
      "\u001b[0;31mTypeError\u001b[0m: 'igraph.Vertex' object is not iterable"
     ],
     "output_type": "error"
    }
   ],
   "source": [
    "a.graph.neighborhood(set(a.getMaxDegreeVertex()))"
   ]
  },
  {
   "cell_type": "code",
   "execution_count": 2,
   "metadata": {
    "collapsed": false
   },
   "outputs": [
    {
     "ename": "NameError",
     "evalue": "name 'np' is not defined",
     "traceback": [
      "\u001b[0;31m---------------------------------------------------------------------------\u001b[0m",
      "\u001b[0;31mNameError\u001b[0m                                 Traceback (most recent call last)",
      "\u001b[0;32m<ipython-input-2-abd855747cac>\u001b[0m in \u001b[0;36m<module>\u001b[0;34m()\u001b[0m\n\u001b[0;32m----> 1\u001b[0;31m \u001b[0mnp\u001b[0m\u001b[0;34m.\u001b[0m\u001b[0mnan\u001b[0m\u001b[0;34m\u001b[0m\u001b[0m\n\u001b[0m",
      "\u001b[0;31mNameError\u001b[0m: name 'np' is not defined"
     ],
     "output_type": "error"
    }
   ],
   "source": [
    "np.nan"
   ]
  },
  {
   "cell_type": "code",
   "execution_count": 5,
   "metadata": {
    "collapsed": false
   },
   "outputs": [
    {
     "data": {
      "text/plain": [
       "0.8879140882566305"
      ]
     },
     "execution_count": 5,
     "metadata": {},
     "output_type": "execute_result"
    }
   ],
   "source": [
    "np.random.random()"
   ]
  },
  {
   "cell_type": "code",
   "execution_count": 5,
   "metadata": {},
   "outputs": [],
   "source": [
    "class prova():\n",
    "    x = 0\n",
    "    \n",
    "    def xa(self):\n",
    "        print 10"
   ]
  },
  {
   "cell_type": "code",
   "execution_count": 6,
   "metadata": {},
   "outputs": [],
   "source": [
    "prova = prova()"
   ]
  },
  {
   "cell_type": "code",
   "execution_count": 8,
   "metadata": {},
   "outputs": [
    {
     "name": "stdout",
     "output_type": "stream",
     "text": [
      "10\n"
     ]
    }
   ],
   "source": [
    "prova.xa()"
   ]
  }
 ],
 "metadata": {
  "anaconda-cloud": {},
  "kernelspec": {
   "display_name": "Python [conda root]",
   "language": "python",
   "name": "conda-root-py"
  },
  "language_info": {
   "codemirror_mode": {
    "name": "ipython",
    "version": 2.0
   },
   "file_extension": ".py",
   "mimetype": "text/x-python",
   "name": "python",
   "nbconvert_exporter": "python",
   "pygments_lexer": "ipython2",
   "version": "2.7.12"
  }
 },
 "nbformat": 4,
 "nbformat_minor": 0
}