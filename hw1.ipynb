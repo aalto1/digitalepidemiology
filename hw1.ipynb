{
 "cells": [
  {
   "cell_type": "markdown",
   "metadata": {},
   "source": [
    "Orkut is a free on-line social network where users form friendship each other. Orkut also allows users form a group which other members can then join. We consider such user-defined groups as ground-truth communities. We provide the Orkut friendship social network and ground-truth communities. This data is provided by Alan Mislove et al.\n",
    "\n",
    "We regard each connected component in a group as a separate ground-truth community. We remove the ground-truth communities which have less than 3 nodes. We also provide the top 5,000 communities with highest quality which are described in our paper. As for the network, we provide the largest connected component."
   ]
  },
  {
   "cell_type": "markdown",
   "metadata": {},
   "source": [
    "The network that we are going to use is Orkut's social graph. I decided to use this dataset because Orkut was a community base social network  base on intrests. This caracteristic is crucial since it allows us to run our epidemiology simulaiton using a real network based on a real-social necessity.\n",
    "\n",
    "The graph is undirected."
   ]
  },
  {
   "cell_type": "code",
   "execution_count": 2,
   "metadata": {
    "collapsed": false
   },
   "outputs": [],
   "source": [
    "from igraph import *\n",
    "import numpy as np\n",
    "import matplotlib.pyplot as plt"
   ]
  },
  {
   "cell_type": "code",
   "execution_count": null,
   "metadata": {
    "collapsed": false
   },
   "outputs": [],
   "source": []
  },
  {
   "cell_type": "code",
   "execution_count": 11,
   "metadata": {
    "collapsed": false
   },
   "outputs": [],
   "source": [
    "a = Epidemy('orkut.txt')"
   ]
  },
  {
   "cell_type": "code",
   "execution_count": 10,
   "metadata": {
    "collapsed": false
   },
   "outputs": [],
   "source": [
    "class Epidemy(Graph):\n",
    "    graph = None\n",
    "    \n",
    "    def __init__(self, graph_edge_list):\n",
    "        self.graph = Graph.Read_Ncol(graph_edge_list, directed=False)\n",
    "        \n",
    "    def getDegreeDistribution(self):\n",
    "        return np.unique(self.degree(), return_counts=True)\n",
    "    \n",
    "    def printLogLogDegreeDistribution(self):\n",
    "        x,y = self.getDegreeDistribution()\n",
    "        plt.scatter(np.log(x), np.log(y))\n",
    "    \n",
    "    def printDegreeDistribution(self):\n",
    "        x,y = self.getDegreeDistribution()\n",
    "        plt.scatter(x, y)\n",
    "        \n",
    "    def SIR():\n",
    "        \n",
    "        \n",
    "        \n",
    "    #def SIR_diffusion():\n",
    "        \n",
    "        \n",
    "        \n",
    "        \n",
    "    "
   ]
  },
  {
   "cell_type": "code",
   "execution_count": null,
   "metadata": {
    "collapsed": false
   },
   "outputs": [],
   "source": [
    "a = Graph.Read_Ncol('orkut.txt', directed=False)"
   ]
  },
  {
   "cell_type": "code",
   "execution_count": null,
   "metadata": {
    "collapsed": true
   },
   "outputs": [],
   "source": []
  }
 ],
 "metadata": {
  "anaconda-cloud": {},
  "kernelspec": {
   "display_name": "Python [conda root]",
   "language": "python",
   "name": "conda-root-py"
  },
  "language_info": {
   "codemirror_mode": {
    "name": "ipython",
    "version": 2
   },
   "file_extension": ".py",
   "mimetype": "text/x-python",
   "name": "python",
   "nbconvert_exporter": "python",
   "pygments_lexer": "ipython2",
   "version": "2.7.12"
  }
 },
 "nbformat": 4,
 "nbformat_minor": 0
}
