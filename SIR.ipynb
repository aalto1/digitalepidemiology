{
 "cells": [
  {
   "cell_type": "code",
   "execution_count": 29,
   "metadata": {
    "collapsed": true
   },
   "outputs": [],
   "source": [
    "from igraph import *\n",
    "import matplotlib.pyplot as plt\n",
    "import numpy as np\n",
    "import itertools\n",
    "import random"
   ]
  },
  {
   "cell_type": "code",
   "execution_count": 10,
   "metadata": {},
   "outputs": [
    {
     "data": {
      "text/plain": [
       "'/home/aalto'"
      ]
     },
     "execution_count": 10,
     "metadata": {},
     "output_type": "execute_result"
    }
   ],
   "source": [
    "import os\n",
    "cwd = os.getcwd()\n",
    "cwd"
   ]
  },
  {
   "cell_type": "code",
   "execution_count": 10,
   "metadata": {},
   "outputs": [],
   "source": [
    "G = Graph.Read_Ncol('PycharmProjects/digitalepidemiology/data/facebook_combined.txt', directed = False)\n",
    "\n",
    "x,y = np.unique(G.degree(), return_counts=True) \n",
    "plt.figure(figsize=(10,7))\n",
    "plt.xlabel('k', fontsize=15)\n",
    "plt.ylabel('P(K = k)', fontsize=15)\n",
    "plt.title('Degree Distribution', fontsize=18)\n",
    "plt.scatter(np.log(x),np.log(y))\n",
    "plt.show()"
   ]
  },
  {
   "cell_type": "code",
   "execution_count": 33,
   "metadata": {},
   "outputs": [
    {
     "data": {
      "text/plain": [
       "1045"
      ]
     },
     "execution_count": 33,
     "metadata": {},
     "output_type": "execute_result"
    }
   ],
   "source": [
    ""
   ]
  },
  {
   "cell_type": "code",
   "execution_count": 34,
   "metadata": {},
   "outputs": [
    {
     "ename": "SyntaxError",
     "evalue": "invalid syntax (<ipython-input-34-701df3c2f0f5>, line 3)",
     "traceback": [
      "\u001b[0;36m  File \u001b[0;32m\"<ipython-input-34-701df3c2f0f5>\"\u001b[0;36m, line \u001b[0;32m3\u001b[0m\n\u001b[0;31m    indexCase =\u001b[0m\n\u001b[0m                ^\u001b[0m\n\u001b[0;31mSyntaxError\u001b[0m\u001b[0;31m:\u001b[0m invalid syntax\n"
     ],
     "output_type": "error"
    }
   ],
   "source": [
    "mu = 0.1\n",
    "beta = 0.4\n",
    "SimulateEpidemy(G, G.vs[G.degree().index(G.maxdegree())], random.choice(G.vs), SIR, mu, beta)"
   ]
  },
  {
   "cell_type": "code",
   "execution_count": null,
   "metadata": {},
   "outputs": [],
   "source": [
    "def checkSentinel(G, sentinels, iteration):\n",
    "    G[sentinels][\"iteration\"] = iteration"
   ]
  },
  {
   "cell_type": "code",
   "execution_count": 17,
   "metadata": {},
   "outputs": [],
   "source": [
    "def SimulateEpidemy(network, indexCases, sentinels, epidemicModel):\n",
    "    \"\"\"\n",
    "    \n",
    "    :param network: the graph on which we want to run our epidemy simulation\n",
    "    :param indexCases: the vertex seed sets\n",
    "    :param sentinels:  the verteces set elements\n",
    "    :param epidemicModel: the type of model that we want to run\n",
    "    :return: \n",
    "    \"\"\"\n",
    "    \n",
    "    indexCases  = set([seed])\n",
    "    sentinels   = set(sentinels)\n",
    "    \n",
    "    #S == 0; I == 1; R == 2\n",
    "    G.vs[\"compartment\"] = np.zeros(len(G.vs), dtype=bytes) \n",
    "    G.vs[\"compartment\"][indexCases] = 1\n",
    "    G.vs[\"iteration\"]   = np.zeros(len(G.vs), dtype=bytes)\n",
    "    \n",
    "    epidemicModel(network)"
   ]
  },
  {
   "cell_type": "code",
   "execution_count": 29,
   "metadata": {},
   "outputs": [],
   "source": [
    "def SIR(G, sentinels, beta, mu):\n",
    "    \n",
    "    for iteration in itertools.count():\n",
    "        \n",
    "        #Simulate the epidepic step, updating the number of SUCEPTIBLE, INFECTED AND REMOVED  \n",
    "        dI_ = set([neighbour for j in G.neighborhood(infeceted_nodes) if G.vs[j][\"status\"] == 0 and np.random.random() < beta])\n",
    "        dR  = set([neighbour for j in G.neighborhood(infeceted_nodes) if G.vs[j][\"status\"] == 0 and np.random.random() < beta])\n",
    "        \n",
    "        G.vs[R][compartment] = 0\n",
    "        G.vs[dI][compartment] = 1\n",
    "        \n",
    "        I = (I - R) | dI\n",
    "        \n",
    "        checkSentinel(G, sentinels, iteration)\n",
    "        \n",
    "        if I < 1 :\n",
    "            break"
   ]
  },
  {
   "cell_type": "code",
   "execution_count": null,
   "metadata": {},
   "outputs": [],
   "source": [
    ""
   ]
  },
  {
   "cell_type": "code",
   "execution_count": null,
   "metadata": {},
   "outputs": [],
   "source": [
    "def PrintEpidemicCurve(S, I, R, S2=null, R2=null):\n",
    "    plt.figure(figsize=(18,7))\n",
    "    plt.xlabel(\"Iteration\")\n",
    "    plt.ylabel('Prevalence')\n",
    "    plt.title('Epidemic Curve')\n",
    "    plt.plot(xrange(0,len(epi_distribution)),  1.0 * np.array(epi_distribution)/len(G.vs), '.-' )\n",
    "    plt.plot(xrange(0,len(epi_distribution)),  1.0 * np.array(epi_distribution)/len(G.vs), '.-' )\n",
    "    plt.plot(xrange(0,len(epi_distribution)),  1.0 * np.array(epi_distribution)/len(G.vs), '.-' )"
   ]
  },
  {
   "cell_type": "code",
   "execution_count": null,
   "metadata": {},
   "outputs": [],
   "source": [
    ""
   ]
  },
  {
   "cell_type": "code",
   "execution_count": null,
   "metadata": {},
   "outputs": [],
   "source": [
    "#PART 2\n",
    "\"\"\" Sentinel nodes\"\"\""
   ]
  },
  {
   "cell_type": "code",
   "execution_count": null,
   "metadata": {},
   "outputs": [],
   "source": [
    "#Take maximum element of the list and than compute the simulation once again\n",
    "G.betweennes()\n",
    "G.pagerank()"
   ]
  },
  {
   "cell_type": "code",
   "execution_count": null,
   "metadata": {},
   "outputs": [],
   "source": [
    "#PART 3\n",
    "\"\"\"\n",
    "In this part we focus on chosing the friend paradox to increase the effectviness of our program. \n",
    "We do  not have global informations about the graph, just a subset of verteces.\n",
    "\n",
    "We pick up random sentinels and try to increase the effectivness of our epidemy.\n",
    "\"\"\" \n",
    "G."
   ]
  }
 ],
 "metadata": {
  "kernelspec": {
   "display_name": "Python 2",
   "language": "python",
   "name": "python2"
  },
  "language_info": {
   "codemirror_mode": {
    "name": "ipython",
    "version": 2.0
   },
   "file_extension": ".py",
   "mimetype": "text/x-python",
   "name": "python",
   "nbconvert_exporter": "python",
   "pygments_lexer": "ipython2",
   "version": "2.7.6"
  }
 },
 "nbformat": 4,
 "nbformat_minor": 0
}