{
 "cells": [
  {
   "cell_type": "code",
   "execution_count": 9,
   "metadata": {
    "collapsed": true
   },
   "outputs": [],
   "source": [
    "from igraph import *\n",
    "import matplotlib.pyplot as plt\n",
    "import numpy as np\n",
    "import itertools"
   ]
  },
  {
   "cell_type": "code",
   "execution_count": 10,
   "metadata": {},
   "outputs": [
    {
     "data": {
      "text/plain": [
       "'/home/aalto'"
      ]
     },
     "execution_count": 10,
     "metadata": {},
     "output_type": "execute_result"
    }
   ],
   "source": [
    "import os\n",
    "cwd = os.getcwd()\n",
    "cwd"
   ]
  },
  {
   "cell_type": "code",
   "execution_count": 30,
   "metadata": {},
   "outputs": [],
   "source": [
    "G = Graph.Read_Ncol('PycharmProjects/digitalepidemiology/data/facebook_combined.txt', directed = False)\n",
    "\n",
    "x,y = np.unique(G.degree(), return_counts=True) \n",
    "plt.figure(figsize=(10,7))\n",
    "plt.xlabel('k', fontsize=15)\n",
    "plt.ylabel('P(K = k)', fontsize=15)\n",
    "plt.title('Degree Distribution', fontsize=18)\n",
    "plt.scatter(np.log(x),np.log(y))\n",
    "plt.show()"
   ]
  },
  {
   "cell_type": "code",
   "execution_count": null,
   "metadata": {},
   "outputs": [],
   "source": [
    ""
   ]
  },
  {
   "cell_type": "code",
   "execution_count": 28,
   "metadata": {},
   "outputs": [
    {
     "ename": "NameError",
     "evalue": "name 'SIR' is not defined",
     "traceback": [
      "\u001b[0;31m---------------------------------------------------------------------------\u001b[0m",
      "\u001b[0;31mNameError\u001b[0m                                 Traceback (most recent call last)",
      "\u001b[0;32m<ipython-input-28-a400b46f5c2e>\u001b[0m in \u001b[0;36m<module>\u001b[0;34m()\u001b[0m\n\u001b[0;32m----> 1\u001b[0;31m \u001b[0mSimulateEpidemy\u001b[0m\u001b[0;34m(\u001b[0m\u001b[0mG\u001b[0m\u001b[0;34m,\u001b[0m \u001b[0mx\u001b[0m\u001b[0;34m,\u001b[0m \u001b[0my\u001b[0m\u001b[0;34m,\u001b[0m \u001b[0mSIR\u001b[0m\u001b[0;34m)\u001b[0m\u001b[0;34m\u001b[0m\u001b[0m\n\u001b[0m",
      "\u001b[0;31mNameError\u001b[0m: name 'SIR' is not defined"
     ],
     "output_type": "error"
    }
   ],
   "source": [
    "SimulateEpidemy(G, x, y, SIR)"
   ]
  },
  {
   "cell_type": "code",
   "execution_count": null,
   "metadata": {},
   "outputs": [],
   "source": [
    "def updateSentinel(G, sentinels, I_new, iteration):\n",
    "    G.vs[sentinels & I_new][\"time\"] = iteration"
   ]
  },
  {
   "cell_type": "code",
   "execution_count": 17,
   "metadata": {},
   "outputs": [],
   "source": [
    "def SimulateEpidemy(network, indexCases, sentinels, epidemicModel):\n",
    "    \"\"\"\n",
    "    \n",
    "    :param network: the graph on which we want to run our epidemy simulation\n",
    "    :param indexCases: the vertex seed sets\n",
    "    :param sentinels:  the verteces set elements\n",
    "    :param epidemicModel: the type of model that we want to run\n",
    "    :return: \n",
    "    \"\"\"\n",
    "    \n",
    "    indexCases  = set([seed])\n",
    "    sentinels   = set(sentinels)\n",
    "    \n",
    "    #S == 0; I == 1; R == 2\n",
    "    G.vs[\"compartment\"] = np.zeros(len(G.vs), dtype=bytes) \n",
    "    G.vs[\"compartment\"][indexCases] = 1\n",
    "    \n",
    "    \n",
    "    epidemicModel(network)\n",
    "    \n",
    "    \n",
    "    \n",
    "    "
   ]
  },
  {
   "cell_type": "code",
   "execution_count": 29,
   "metadata": {},
   "outputs": [],
   "source": [
    "def SIR(G, beta, mu):\n",
    "    \n",
    "    for iteration in itertools.count():\n",
    "        \n",
    "        #Simulate the epidepic step, updating the number of SUCEPTIBLE, INFECTED AND REMOVED  \n",
    "        I_new_ = set([neighbour for j in G.neighborhood(infeceted_nodes) if G.vs[j][\"status\"] == 0 and np.random.random() < beta])\n",
    "        R_new = set([neighbour for j in G.neighborhood(infeceted_nodes) if G.vs[j][\"status\"] == 0 and np.random.random() < beta])\n",
    "        updateSentinels(G, sentinels, I_new, iteration )\n",
    "\n",
    "        \n",
    "        G.vs[R][compartment] = 0\n",
    "        G.vs[I][compartment] = 1\n",
    "        \n",
    "        I = (I - R) | I_new\n",
    "        \n",
    "        checkSentinel()\n",
    "        \n",
    "        if I < 1:\n",
    "            break"
   ]
  },
  {
   "cell_type": "code",
   "execution_count": 2,
   "metadata": {},
   "outputs": [
    {
     "ename": "SyntaxError",
     "evalue": "unexpected EOF while parsing (<ipython-input-1-8bd7fee63926>, line 1)",
     "traceback": [
      "\u001b[0;36m  File \u001b[0;32m\"<ipython-input-1-8bd7fee63926>\"\u001b[0;36m, line \u001b[0;32m1\u001b[0m\n\u001b[0;31m    def SIS():\u001b[0m\n\u001b[0m              ^\u001b[0m\n\u001b[0;31mSyntaxError\u001b[0m\u001b[0;31m:\u001b[0m unexpected EOF while parsing\n"
     ],
     "output_type": "error"
    },
    {
     "ename": "SyntaxError",
     "evalue": "unexpected EOF while parsing (<ipython-input-2-8bd7fee63926>, line 1)",
     "traceback": [
      "\u001b[0;36m  File \u001b[0;32m\"<ipython-input-2-8bd7fee63926>\"\u001b[0;36m, line \u001b[0;32m1\u001b[0m\n\u001b[0;31m    def SIS():\u001b[0m\n\u001b[0m              ^\u001b[0m\n\u001b[0;31mSyntaxError\u001b[0m\u001b[0;31m:\u001b[0m unexpected EOF while parsing\n"
     ],
     "output_type": "error"
    }
   ],
   "source": [
    "def SIS():\n",
    "    return"
   ]
  },
  {
   "cell_type": "code",
   "execution_count": null,
   "metadata": {},
   "outputs": [],
   "source": [
    "def SIRS():\n",
    "    "
   ]
  },
  {
   "cell_type": "markdown",
   "metadata": {},
   "source": [
    "We now take care to use the sent"
   ]
  },
  {
   "cell_type": "code",
   "execution_count": null,
   "metadata": {},
   "outputs": [],
   "source": [
    ""
   ]
  },
  {
   "cell_type": "code",
   "execution_count": null,
   "metadata": {},
   "outputs": [],
   "source": [
    ""
   ]
  },
  {
   "cell_type": "code",
   "execution_count": null,
   "metadata": {},
   "outputs": [],
   "source": [
    ""
   ]
  },
  {
   "cell_type": "code",
   "execution_count": null,
   "metadata": {},
   "outputs": [],
   "source": [
    ""
   ]
  },
  {
   "cell_type": "code",
   "execution_count": null,
   "metadata": {},
   "outputs": [],
   "source": [
    ""
   ]
  }
 ],
 "metadata": {
  "kernelspec": {
   "display_name": "Python 2",
   "language": "python",
   "name": "python2"
  },
  "language_info": {
   "codemirror_mode": {
    "name": "ipython",
    "version": 2.0
   },
   "file_extension": ".py",
   "mimetype": "text/x-python",
   "name": "python",
   "nbconvert_exporter": "python",
   "pygments_lexer": "ipython2",
   "version": "2.7.6"
  }
 },
 "nbformat": 4,
 "nbformat_minor": 0
}