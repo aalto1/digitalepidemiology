{
 "cells": [
  {
   "cell_type": "code",
   "execution_count": 3,
   "metadata": {
    "collapsed": true
   },
   "outputs": [],
   "source": [
    "from igraph import *\n",
    "import matplotlib.pyplot as plt\n",
    "import numpy as np\n",
    "import itertools\n",
    "import random"
   ]
  },
  {
   "cell_type": "code",
   "execution_count": 10,
   "metadata": {},
   "outputs": [
    {
     "data": {
      "text/plain": [
       "'/home/aalto'"
      ]
     },
     "execution_count": 10,
     "metadata": {},
     "output_type": "execute_result"
    }
   ],
   "source": [
    "import os\n",
    "cwd = os.getcwd()\n",
    "cwd"
   ]
  },
  {
   "cell_type": "code",
   "execution_count": 11,
   "metadata": {},
   "outputs": [],
   "source": [
    "G = Graph.Read_Ncol('PycharmProjects/digitalepidemiology/data/facebook_combined.txt', directed = False)\n",
    "\n",
    "x,y = np.unique(G.degree(), return_counts=True) \n",
    "plt.figure(figsize=(10,7))\n",
    "plt.xlabel('k', fontsize=15)\n",
    "plt.ylabel('P(K = k)', fontsize=15)\n",
    "plt.title('Degree Distribution', fontsize=18)\n",
    "plt.scatter(np.log(x),np.log(y))\n",
    "plt.show()"
   ]
  },
  {
   "cell_type": "code",
   "execution_count": 12,
   "metadata": {},
   "outputs": [],
   "source": [
    ""
   ]
  },
  {
   "cell_type": "code",
   "execution_count": 15,
   "metadata": {},
   "outputs": [
    {
     "ename": "TypeError",
     "evalue": "'igraph.Vertex' object is not iterable",
     "traceback": [
      "\u001b[0;31m---------------------------------------------------------------------------\u001b[0m",
      "\u001b[0;31mTypeError\u001b[0m                                 Traceback (most recent call last)",
      "\u001b[0;32m<ipython-input-15-b184a99a9aad>\u001b[0m in \u001b[0;36m<module>\u001b[0;34m()\u001b[0m\n\u001b[0;32m----> 1\u001b[0;31m \u001b[0mSimulateEpidemy\u001b[0m\u001b[0;34m(\u001b[0m\u001b[0mG\u001b[0m\u001b[0;34m,\u001b[0m \u001b[0mG\u001b[0m\u001b[0;34m.\u001b[0m\u001b[0mmaxdegree\u001b[0m\u001b[0;34m,\u001b[0m \u001b[0mrandom\u001b[0m\u001b[0;34m.\u001b[0m\u001b[0mchoice\u001b[0m\u001b[0;34m(\u001b[0m\u001b[0mG\u001b[0m\u001b[0;34m.\u001b[0m\u001b[0mvs\u001b[0m\u001b[0;34m)\u001b[0m \u001b[0;34m,\u001b[0m \u001b[0mSIR\u001b[0m\u001b[0;34m)\u001b[0m\u001b[0;34m\u001b[0m\u001b[0m\n\u001b[0m",
      "\u001b[0;32m<ipython-input-14-06d0f1e3ae8b>\u001b[0m in \u001b[0;36mSimulateEpidemy\u001b[0;34m(network, indexCases, sentinels, epidemicModel)\u001b[0m\n\u001b[1;32m     10\u001b[0m \u001b[0;34m\u001b[0m\u001b[0m\n\u001b[1;32m     11\u001b[0m     \u001b[0mindexCases\u001b[0m  \u001b[0;34m=\u001b[0m \u001b[0mset\u001b[0m\u001b[0;34m(\u001b[0m\u001b[0;34m[\u001b[0m\u001b[0mindexCases\u001b[0m\u001b[0;34m]\u001b[0m\u001b[0;34m)\u001b[0m\u001b[0;34m\u001b[0m\u001b[0m\n\u001b[0;32m---> 12\u001b[0;31m     \u001b[0msentinels\u001b[0m   \u001b[0;34m=\u001b[0m \u001b[0mset\u001b[0m\u001b[0;34m(\u001b[0m\u001b[0msentinels\u001b[0m\u001b[0;34m)\u001b[0m\u001b[0;34m\u001b[0m\u001b[0m\n\u001b[0m\u001b[1;32m     13\u001b[0m \u001b[0;34m\u001b[0m\u001b[0m\n\u001b[1;32m     14\u001b[0m     \u001b[0;31m#S == 0; I == 1; R == 2\u001b[0m\u001b[0;34m\u001b[0m\u001b[0;34m\u001b[0m\u001b[0m\n",
      "\u001b[0;31mTypeError\u001b[0m: 'igraph.Vertex' object is not iterable"
     ],
     "output_type": "error"
    }
   ],
   "source": [
    "SimulateEpidemy(G, G.maxdegree, random.choice(G.vs) , SIR)"
   ]
  },
  {
   "cell_type": "code",
   "execution_count": 9,
   "metadata": {},
   "outputs": [],
   "source": [
    "def checkSentinel(G, sentinels, dR, iteration):\n",
    "    G.vs[sentinels][\"iteration\"] = iteration"
   ]
  },
  {
   "cell_type": "code",
   "execution_count": 14,
   "metadata": {},
   "outputs": [],
   "source": [
    "def SimulateEpidemy(network, indexCases, sentinels, epidemicModel):\n",
    "    \"\"\"\n",
    "    \n",
    "    :param network: the graph on which we want to run our epidemy simulation\n",
    "    :param indexCases: the vertex seed sets\n",
    "    :param sentinels:  the verteces set elements\n",
    "    :param epidemicModel: the type of model that we want to run\n",
    "    :return: \n",
    "    \"\"\"\n",
    "    \n",
    "    indexCases  = set([indexCases])\n",
    "    sentinels   = set(sentinels)\n",
    "    \n",
    "    #S == 0; I == 1; R == 2\n",
    "    G.vs[\"compartment\"] = np.zeros(len(G.vs), dtype=bytes) \n",
    "    G.vs[\"compartment\"][indexCases] = 1\n",
    "    G.vs[\"iteration\"] = np.zero(len(G.vs), dtype=bytes)\n",
    "    \n",
    "    \n",
    "    epidemicModel(network)"
   ]
  },
  {
   "cell_type": "code",
   "execution_count": 7,
   "metadata": {},
   "outputs": [],
   "source": [
    "def SIR(G, sentinels, beta, mu):\n",
    "    \n",
    "    for iteration in itertools.count():\n",
    "        \n",
    "        #Simulate the epidepic step, updating the number of SUCEPTIBLE, INFECTED AND REMOVED  \n",
    "        dI_ = set([neighbour for j in G.neighborhood(infeceted_nodes) if G.vs[j][\"status\"] == 0 and np.random.random() < beta])\n",
    "        dR  = set([neighbour for j in G.neighborhood(infeceted_nodes) if G.vs[j][\"status\"] == 0 and np.random.random() < beta])\n",
    "        checkSentinel(G, sentinels, dR, iteration)\n",
    "        \n",
    "        G.vs[dR][\"compartment\"] = 0\n",
    "        G.vs[dI][\"compartment\"] = 1\n",
    "        \n",
    "        I = (I - dR) | dI\n",
    "        \n",
    "        checkSentinel(G, sentinels, iteration)\n",
    "        \n",
    "        if I < 1 :\n",
    "            break"
   ]
  },
  {
   "cell_type": "code",
   "execution_count": null,
   "metadata": {},
   "outputs": [],
   "source": [
    ""
   ]
  },
  {
   "cell_type": "code",
   "execution_count": null,
   "metadata": {},
   "outputs": [],
   "source": [
    ""
   ]
  },
  {
   "cell_type": "code",
   "execution_count": null,
   "metadata": {},
   "outputs": [],
   "source": [
    ""
   ]
  },
  {
   "cell_type": "code",
   "execution_count": null,
   "metadata": {},
   "outputs": [],
   "source": [
    ""
   ]
  },
  {
   "cell_type": "code",
   "execution_count": null,
   "metadata": {},
   "outputs": [],
   "source": [
    ""
   ]
  }
 ],
 "metadata": {
  "kernelspec": {
   "display_name": "Python 2",
   "language": "python",
   "name": "python2"
  },
  "language_info": {
   "codemirror_mode": {
    "name": "ipython",
    "version": 2.0
   },
   "file_extension": ".py",
   "mimetype": "text/x-python",
   "name": "python",
   "nbconvert_exporter": "python",
   "pygments_lexer": "ipython2",
   "version": "2.7.6"
  }
 },
 "nbformat": 4,
 "nbformat_minor": 0
}